{
 "cells": [
  {
   "cell_type": "markdown",
   "metadata": {},
   "source": [
    "### Python Decorators"
   ]
  },
  {
   "cell_type": "code",
   "execution_count": 32,
   "metadata": {},
   "outputs": [],
   "source": [
    "## function copy\n",
    "## closures\n",
    "## decorators"
   ]
  },
  {
   "cell_type": "code",
   "metadata": {
    "ExecuteTime": {
     "end_time": "2025-07-26T15:45:41.081948Z",
     "start_time": "2025-07-26T15:45:41.080493Z"
    }
   },
   "source": [
    "def welcome():\n",
    "    return \"Welcome to Krish Naik Youtube Channel\""
   ],
   "outputs": [],
   "execution_count": 1
  },
  {
   "cell_type": "code",
   "metadata": {
    "ExecuteTime": {
     "end_time": "2025-07-26T15:45:42.283127Z",
     "start_time": "2025-07-26T15:45:42.280305Z"
    }
   },
   "source": [
    "wel=welcome()\n",
    "del welcome"
   ],
   "outputs": [],
   "execution_count": 2
  },
  {
   "cell_type": "code",
   "metadata": {
    "ExecuteTime": {
     "end_time": "2025-07-26T15:45:44.056643Z",
     "start_time": "2025-07-26T15:45:44.051426Z"
    }
   },
   "source": [
    "wel"
   ],
   "outputs": [
    {
     "data": {
      "text/plain": [
       "'Welcome to Krish Naik Youtube Channel'"
      ]
     },
     "execution_count": 3,
     "metadata": {},
     "output_type": "execute_result"
    }
   ],
   "execution_count": 3
  },
  {
   "cell_type": "code",
   "metadata": {
    "ExecuteTime": {
     "end_time": "2025-07-26T15:45:45.659599Z",
     "start_time": "2025-07-26T15:45:45.517974Z"
    }
   },
   "source": [
    "welcome()"
   ],
   "outputs": [
    {
     "ename": "NameError",
     "evalue": "name 'welcome' is not defined",
     "output_type": "error",
     "traceback": [
      "\u001B[0;31m---------------------------------------------------------------------------\u001B[0m",
      "\u001B[0;31mNameError\u001B[0m                                 Traceback (most recent call last)",
      "Cell \u001B[0;32mIn[4], line 1\u001B[0m\n\u001B[0;32m----> 1\u001B[0m \u001B[43mwelcome\u001B[49m()\n",
      "\u001B[0;31mNameError\u001B[0m: name 'welcome' is not defined"
     ]
    }
   ],
   "execution_count": 4
  },
  {
   "cell_type": "code",
   "execution_count": 64,
   "metadata": {},
   "outputs": [],
   "source": [
    "### Closures\n",
    "def main_welcome(msg):\n",
    "   \n",
    "    def sub_welcome_class():\n",
    "        print(\"Welcome To Krish Naik Youtube Channel\")\n",
    "        print(msg)\n",
    "        print(\"Please subscribe Krish channel\")\n",
    "    return sub_welcome_class()"
   ]
  },
  {
   "cell_type": "code",
   "execution_count": 65,
   "metadata": {},
   "outputs": [
    {
     "name": "stdout",
     "output_type": "stream",
     "text": [
      "Welcome To Krish Naik Youtube Channel\n",
      "Krish\n",
      "Please subscribe Krish channel\n"
     ]
    }
   ],
   "source": [
    "main_welcome(\"Krish\")"
   ]
  },
  {
   "cell_type": "code",
   "execution_count": 74,
   "metadata": {},
   "outputs": [],
   "source": [
    "### Closures & initial Decorators\n",
    "def main_welcome(func):\n",
    "   \n",
    "    def sub_welcome_class():\n",
    "        print(\"Welcome To Krish Naik Youtube Channel\")\n",
    "        print(func([1,2,3,4,5,6]))\n",
    "        print(\"Please subscribe Krish channel\")\n",
    "    return sub_welcome_class()"
   ]
  },
  {
   "cell_type": "code",
   "execution_count": 75,
   "metadata": {},
   "outputs": [
    {
     "name": "stdout",
     "output_type": "stream",
     "text": [
      "Welcome To Krish Naik Youtube Channel\n",
      "6\n",
      "Please subscribe Krish channel\n"
     ]
    }
   ],
   "source": [
    "main_welcome(len)"
   ]
  },
  {
   "cell_type": "code",
   "execution_count": 87,
   "metadata": {},
   "outputs": [],
   "source": [
    "### Decorators\n",
    "def main_welcome(func):\n",
    "   \n",
    "    def sub_welcome_class():\n",
    "        print(\"Welcome To Krish Naik Youtube Channel\")\n",
    "        func()\n",
    "        print(\"Please subscribe Krish channel\")\n",
    "    return sub_welcome_class()"
   ]
  },
  {
   "cell_type": "code",
   "execution_count": 93,
   "metadata": {},
   "outputs": [
    {
     "name": "stdout",
     "output_type": "stream",
     "text": [
      "Welcome To Krish Naik Youtube Channel\n",
      "This is Krish youtube channel\n",
      "Please subscribe Krish channel\n"
     ]
    }
   ],
   "source": [
    "@main_welcome\n",
    "def channel_name():\n",
    "    print(\"This is Krish youtube channel\")"
   ]
  },
  {
   "cell_type": "code",
   "execution_count": 90,
   "metadata": {},
   "outputs": [
    {
     "name": "stdout",
     "output_type": "stream",
     "text": [
      "Welcome To Krish Naik Youtube Channel\n",
      "This is Krish youtube channel\n",
      "Please subscribe Krish channel\n"
     ]
    }
   ],
   "source": [
    "a=main_welcome(channel_name)"
   ]
  },
  {
   "cell_type": "code",
   "execution_count": null,
   "metadata": {},
   "outputs": [],
   "source": []
  },
  {
   "cell_type": "code",
   "execution_count": null,
   "metadata": {},
   "outputs": [],
   "source": []
  }
 ],
 "metadata": {
  "kernelspec": {
   "display_name": "Python 3",
   "language": "python",
   "name": "python3"
  },
  "language_info": {
   "codemirror_mode": {
    "name": "ipython",
    "version": 3
   },
   "file_extension": ".py",
   "mimetype": "text/x-python",
   "name": "python",
   "nbconvert_exporter": "python",
   "pygments_lexer": "ipython3",
   "version": "3.7.7"
  }
 },
 "nbformat": 4,
 "nbformat_minor": 4
}
